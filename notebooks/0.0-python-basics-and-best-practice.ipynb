{
 "cells": [
  {
   "cell_type": "markdown",
   "metadata": {},
   "source": [
    "#### Use list comprehensions \n",
    "List comprehensions offer a concise and faster way to generate lists."
   ]
  },
  {
   "cell_type": "code",
   "execution_count": 2,
   "metadata": {},
   "outputs": [
    {
     "name": "stdout",
     "output_type": "stream",
     "text": [
      "3.6803307910449803\n"
     ]
    }
   ],
   "source": [
    "def do_1():\n",
    "    list_object = []\n",
    "    for i in range(100):\n",
    "        list_object.append(i)\n",
    "    return list_object\n",
    "\n",
    "# Benchmark the traditional approach\n",
    "import timeit\n",
    "t = timeit.Timer(setup='from __main__ import do_1', stmt='do_1()')\n",
    "print(t.timeit())"
   ]
  },
  {
   "cell_type": "code",
   "execution_count": 3,
   "metadata": {},
   "outputs": [
    {
     "name": "stdout",
     "output_type": "stream",
     "text": [
      "1.9280814779922366\n"
     ]
    }
   ],
   "source": [
    "# Now, use list comprehension\n",
    "def do():\n",
    "    return [i for i in range(100)]\n",
    "\n",
    "# Benchmark the comprehension approach\n",
    "t = timeit.Timer(setup='from __main__ import do', stmt='do()')\n",
    "print(t.timeit())"
   ]
  },
  {
   "cell_type": "markdown",
   "metadata": {},
   "source": [
    "#### Avoid String Concatenation\n",
    "Instead of using += for string concatenation within a loop, prefer the join() method."
   ]
  },
  {
   "cell_type": "code",
   "execution_count": 4,
   "metadata": {},
   "outputs": [
    {
     "name": "stdout",
     "output_type": "stream",
     "text": [
      "0.3365074461326003\n"
     ]
    }
   ],
   "source": [
    "def do():\n",
    "    obj = [\"hello\", \"my\", \"name\", \"is\", \"Delight\", \"!\"]\n",
    "    s = \"\"\n",
    "    for elem in obj:\n",
    "        s += elem\n",
    "\n",
    "# Benchmark the += operator for string concatenation\n",
    "t = timeit.Timer(setup='from __main__ import do', stmt='do()')\n",
    "print(t.timeit())"
   ]
  },
  {
   "cell_type": "code",
   "execution_count": 5,
   "metadata": {},
   "outputs": [
    {
     "name": "stdout",
     "output_type": "stream",
     "text": [
      "0.16346955625340343\n"
     ]
    }
   ],
   "source": [
    "# Now, use the join() method\n",
    "def do():\n",
    "    s = [\"hello\", \"my\", \"name\", \"is\", \"Delight\", \"!\"]\n",
    "    \"\".join(s)\n",
    "\n",
    "# Benchmark the join() method for efficient string concatenation\n",
    "t = timeit.Timer(setup='from __main__ import do', stmt='do()')\n",
    "print(t.timeit())"
   ]
  },
  {
   "cell_type": "markdown",
   "metadata": {},
   "source": [
    "#### Use f-strings for formatting"
   ]
  },
  {
   "cell_type": "code",
   "execution_count": 7,
   "metadata": {},
   "outputs": [
    {
     "name": "stdout",
     "output_type": "stream",
     "text": [
      "My name is John, I am 30 years old, and my height is 175.54 cm.\n"
     ]
    }
   ],
   "source": [
    "name = \"John\"\n",
    "age = 30\n",
    "height = 175.54399\n",
    "\n",
    "# Using f-string to format a string with variables\n",
    "info_str = f\"My name is {name}, I am {age} years old, and my height is {height:.2f} cm.\"\n",
    "# info_str = \"My name is {}, I am {} years old, and my height is {} cm.\".format(name, age, height)\n",
    "\n",
    "print(info_str)"
   ]
  },
  {
   "cell_type": "markdown",
   "metadata": {},
   "source": [
    "#### Error Handling with Try-Except Blocks"
   ]
  },
  {
   "cell_type": "code",
   "execution_count": 10,
   "metadata": {},
   "outputs": [
    {
     "ename": "ValueError",
     "evalue": "invalid literal for int() with base 10: 'a'",
     "output_type": "error",
     "traceback": [
      "\u001b[0;31m---------------------------------------------------------------------------\u001b[0m",
      "\u001b[0;31mValueError\u001b[0m                                Traceback (most recent call last)",
      "Cell \u001b[0;32mIn[10], line 1\u001b[0m\n\u001b[0;32m----> 1\u001b[0m result \u001b[38;5;241m=\u001b[39m \u001b[38;5;28;43mint\u001b[39;49m\u001b[43m(\u001b[49m\u001b[38;5;28;43minput\u001b[39;49m\u001b[43m(\u001b[49m\u001b[38;5;124;43m\"\u001b[39;49m\u001b[38;5;124;43mEnter a number: \u001b[39;49m\u001b[38;5;124;43m\"\u001b[39;49m\u001b[43m)\u001b[49m\u001b[43m)\u001b[49m\n\u001b[1;32m      2\u001b[0m \u001b[38;5;28mprint\u001b[39m(result)\n",
      "\u001b[0;31mValueError\u001b[0m: invalid literal for int() with base 10: 'a'"
     ]
    }
   ],
   "source": [
    "result = int(input(\"Enter a number: \"))\n",
    "print(result)"
   ]
  },
  {
   "cell_type": "code",
   "execution_count": 11,
   "metadata": {},
   "outputs": [
    {
     "name": "stdout",
     "output_type": "stream",
     "text": [
      "Invalid input. Please enter a valid number.\n"
     ]
    }
   ],
   "source": [
    "try:\n",
    "    result = int(input(\"Enter a number: \"))\n",
    "except ValueError:\n",
    "    print(\"Invalid input. Please enter a valid number.\")\n"
   ]
  },
  {
   "cell_type": "markdown",
   "metadata": {},
   "source": [
    "#### Use a debugger instead of manual debugging."
   ]
  },
  {
   "cell_type": "markdown",
   "metadata": {},
   "source": [
    "#### Utilize unittest/pytest for reliable code, bug identification, and issue resolution.\n"
   ]
  },
  {
   "cell_type": "markdown",
   "metadata": {},
   "source": []
  }
 ],
 "metadata": {
  "kernelspec": {
   "display_name": "sta6367",
   "language": "python",
   "name": "python3"
  },
  "language_info": {
   "codemirror_mode": {
    "name": "ipython",
    "version": 3
   },
   "file_extension": ".py",
   "mimetype": "text/x-python",
   "name": "python",
   "nbconvert_exporter": "python",
   "pygments_lexer": "ipython3",
   "version": "3.10.13"
  }
 },
 "nbformat": 4,
 "nbformat_minor": 2
}
