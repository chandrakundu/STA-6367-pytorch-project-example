{
 "cells": [
  {
   "cell_type": "code",
   "execution_count": 1,
   "metadata": {},
   "outputs": [
    {
     "ename": "ModuleNotFoundError",
     "evalue": "No module named 'networks'",
     "output_type": "error",
     "traceback": [
      "\u001b[0;31m---------------------------------------------------------------------------\u001b[0m",
      "\u001b[0;31mModuleNotFoundError\u001b[0m                       Traceback (most recent call last)",
      "Cell \u001b[0;32mIn[1], line 11\u001b[0m\n\u001b[1;32m      8\u001b[0m sys\u001b[38;5;241m.\u001b[39mpath\u001b[38;5;241m.\u001b[39mappend(\u001b[38;5;124m'\u001b[39m\u001b[38;5;124m/home/ckundu/projects/sta6367/python_temp/my_first_ml/src\u001b[39m\u001b[38;5;124m'\u001b[39m)  \n\u001b[1;32m     10\u001b[0m \u001b[38;5;66;03m# Import your modules\u001b[39;00m\n\u001b[0;32m---> 11\u001b[0m \u001b[38;5;28;01mfrom\u001b[39;00m \u001b[38;5;21;01mnetworks\u001b[39;00m\u001b[38;5;21;01m.\u001b[39;00m\u001b[38;5;21;01msample_net\u001b[39;00m \u001b[38;5;28;01mimport\u001b[39;00m SampleNet\n\u001b[1;32m     12\u001b[0m \u001b[38;5;28;01mfrom\u001b[39;00m \u001b[38;5;21;01mdata\u001b[39;00m\u001b[38;5;21;01m.\u001b[39;00m\u001b[38;5;21;01mmnist_loader\u001b[39;00m \u001b[38;5;28;01mimport\u001b[39;00m MNISTLoader\n\u001b[1;32m     13\u001b[0m \u001b[38;5;28;01mfrom\u001b[39;00m \u001b[38;5;21;01mmodels\u001b[39;00m\u001b[38;5;21;01m.\u001b[39;00m\u001b[38;5;21;01mtrain_model\u001b[39;00m \u001b[38;5;28;01mimport\u001b[39;00m train_model\n",
      "\u001b[0;31mModuleNotFoundError\u001b[0m: No module named 'networks'"
     ]
    }
   ],
   "source": [
    "# Import necessary modules\n",
    "import torch\n",
    "import torch.nn as nn\n",
    "import torch.optim as optim\n",
    "from torchvision import datasets, transforms\n",
    "\n",
    "import sys\n",
    "sys.path.append('/home/ckundu/projects/sta6367/python_temp/my_first_ml/src')  \n",
    "\n",
    "# Import your modules\n",
    "from networks.sample_net import SampleNet\n",
    "from data.mnist_loader import MNISTLoader\n",
    "from models.train_model import train_model\n",
    "from models.predict_model import predict_model\n",
    "from models.metrics import compute_accuracy\n",
    "\n",
    "# Set device (GPU if available, else CPU)\n",
    "device = torch.device(\"cuda\" if torch.cuda.is_available() else \"cpu\")"
   ]
  },
  {
   "cell_type": "code",
   "execution_count": 2,
   "metadata": {},
   "outputs": [
    {
     "data": {
      "image/png": "[encoded data removed]",
      "text/plain": [
       "<Figure size 1000x200 with 5 Axes>"
      ]
     },
     "metadata": {},
     "output_type": "display_data"
    }
   ],
   "source": [
    "# Data loading\n",
    "mnist_loader = MNISTLoader(batch_size=32, shuffle=True, device=device)\n",
    "\n",
    "# Display some sample images\n",
    "mnist_loader.show_samples()"
   ]
  },
  {
   "cell_type": "code",
   "execution_count": 4,
   "metadata": {},
   "outputs": [
    {
     "name": "stderr",
     "output_type": "stream",
     "text": [
      "Epoch 1/1:   0%|          | 0/1875 [00:00<?, ?it/s]"
     ]
    },
    {
     "name": "stderr",
     "output_type": "stream",
     "text": [
      "Epoch 1/1: 100%|██████████| 1875/1875 [02:46<00:00, 11.25it/s, Train Loss=1.9] \n",
      "Testing: 100%|██████████| 313/313 [00:02<00:00, 156.23it/s, Test Accuracy=0.675]"
     ]
    },
    {
     "name": "stdout",
     "output_type": "stream",
     "text": [
      "Epoch 1/1 | Training Loss: 1.8985 | Accuracy: 67.46%\n"
     ]
    },
    {
     "name": "stderr",
     "output_type": "stream",
     "text": [
      "\n"
     ]
    }
   ],
   "source": [
    "# Model definition\n",
    "model = SampleNet().to(device)\n",
    "\n",
    "# Loss function and optimizer\n",
    "criterion = nn.CrossEntropyLoss()\n",
    "optimizer = optim.SGD(model.parameters(), lr=0.001, momentum=0.9)\n",
    "\n",
    "# Training\n",
    "train_model(model, mnist_loader.get_train_loader(), mnist_loader.get_test_loader(), criterion, optimizer, num_epochs=1)\n",
    "\n",
    "# Save the trained model (optional)\n",
    "# torch.save(model.state_dict(), 'path/to/your/trained_model.pth')\n"
   ]
  },
  {
   "cell_type": "code",
   "execution_count": 4,
   "metadata": {},
   "outputs": [
    {
     "name": "stdout",
     "output_type": "stream",
     "text": [
      "Test Accuracy: 10.49%\n"
     ]
    }
   ],
   "source": [
    "# Inference\n",
    "test_loader = mnist_loader.get_test_loader()\n",
    "predictions = predict_model(model, test_loader)\n",
    "\n",
    "# Ground truth labels (for testing purposes)\n",
    "ground_truth = torch.cat([labels for _, labels in test_loader])\n",
    "\n",
    "# Compute accuracy\n",
    "accuracy = compute_accuracy(predictions, ground_truth)\n",
    "print(f'Test Accuracy: {accuracy:.2%}')"
   ]
  },
  {
   "cell_type": "code",
   "execution_count": 5,
   "metadata": {},
   "outputs": [
    {
     "name": "stdout",
     "output_type": "stream",
     "text": [
      "CUDA Available: False\n"
     ]
    }
   ],
   "source": [
    "import torch\n",
    "\n",
    "cuda_available = torch.cuda.is_available()\n",
    "\n",
    "print(f\"CUDA Available: {cuda_available}\")\n",
    "if cuda_available:\n",
    "    print(f\"CUDA Version: {torch.version.cuda}\")\n"
   ]
  }
 ],
 "metadata": {
  "kernelspec": {
   "display_name": "sta6367",
   "language": "python",
   "name": "python3"
  },
  "language_info": {
   "codemirror_mode": {
    "name": "ipython",
    "version": 3
   },
   "file_extension": ".py",
   "mimetype": "text/x-python",
   "name": "python",
   "nbconvert_exporter": "python",
   "pygments_lexer": "ipython3",
   "version": "3.10.13"
  }
 },
 "nbformat": 4,
 "nbformat_minor": 2
}
