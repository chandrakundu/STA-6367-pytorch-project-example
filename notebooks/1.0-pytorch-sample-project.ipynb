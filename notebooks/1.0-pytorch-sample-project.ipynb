{
 "cells": [
  {
   "cell_type": "code",
   "execution_count": 5,
   "metadata": {},
   "outputs": [],
   "source": [
    "# Import necessary modules\n",
    "import torch\n",
    "import torch.nn as nn\n",
    "import torch.optim as optim\n",
    "\n",
    "import sys\n",
    "sys.path.append('/home/ckundu/projects/sta6367/python_temp/STA-6367-pytorch-project-example/src')  \n",
    "\n",
    "# Import your modules\n",
    "from networks.sample_net import SampleNet\n",
    "from data.mnist_loader import MNISTLoader\n",
    "from models.train_model import train_model\n",
    "from models.predict_model import predict_model\n",
    "from models.metrics import compute_accuracy\n",
    "\n",
    "# Set device (GPU if available, else CPU)\n",
    "device = torch.device(\"cuda\" if torch.cuda.is_available() else \"cpu\")"
   ]
  },
  {
   "cell_type": "code",
   "execution_count": 6,
   "metadata": {},
   "outputs": [
    {
     "data": {
      "image/png": "[encoded data removed]",
      "text/plain": [
       "<Figure size 1000x200 with 5 Axes>"
      ]
     },
     "metadata": {},
     "output_type": "display_data"
    }
   ],
   "source": [
    "# Data loading\n",
    "mnist_loader = MNISTLoader(batch_size=32, shuffle=True, device=device)\n",
    "\n",
    "# Display some sample images\n",
    "mnist_loader.show_samples()"
   ]
  },
  {
   "cell_type": "code",
   "execution_count": 4,
   "metadata": {},
   "outputs": [
    {
     "name": "stderr",
     "output_type": "stream",
     "text": [
      "Epoch 1/1:   0%|          | 0/1875 [00:00<?, ?it/s]"
     ]
    },
    {
     "name": "stderr",
     "output_type": "stream",
     "text": [
      "Epoch 1/1: 100%|██████████| 1875/1875 [02:44<00:00, 11.41it/s, Train Loss=1.79]\n",
      "Testing: 100%|██████████| 313/313 [00:02<00:00, 152.32it/s, Test Accuracy=0.841]"
     ]
    },
    {
     "name": "stdout",
     "output_type": "stream",
     "text": [
      "Epoch 1/1 | Training Loss: 1.7898 | Accuracy: 84.11%\n"
     ]
    },
    {
     "name": "stderr",
     "output_type": "stream",
     "text": [
      "\n"
     ]
    }
   ],
   "source": [
    "# Model definition\n",
    "model = SampleNet().to(device)\n",
    "\n",
    "# Loss function and optimizer\n",
    "criterion = nn.CrossEntropyLoss()\n",
    "optimizer = optim.SGD(model.parameters(), lr=0.001, momentum=0.9)\n",
    "\n",
    "# Training\n",
    "train_model(model, mnist_loader.get_train_loader(), mnist_loader.get_test_loader(), criterion, optimizer, num_epochs=1)\n",
    "\n",
    "# Save the trained model (optional)\n",
    "# torch.save(model.state_dict(), 'path/to/your/trained_model.pth')\n"
   ]
  },
  {
   "cell_type": "code",
   "execution_count": 3,
   "metadata": {},
   "outputs": [
    {
     "ename": "NameError",
     "evalue": "name 'model' is not defined",
     "output_type": "error",
     "traceback": [
      "\u001b[0;31m---------------------------------------------------------------------------\u001b[0m",
      "\u001b[0;31mNameError\u001b[0m                                 Traceback (most recent call last)",
      "Cell \u001b[0;32mIn[3], line 3\u001b[0m\n\u001b[1;32m      1\u001b[0m \u001b[38;5;66;03m# Inference\u001b[39;00m\n\u001b[1;32m      2\u001b[0m test_loader \u001b[38;5;241m=\u001b[39m mnist_loader\u001b[38;5;241m.\u001b[39mget_test_loader()\n\u001b[0;32m----> 3\u001b[0m predictions \u001b[38;5;241m=\u001b[39m predict_model(\u001b[43mmodel\u001b[49m, test_loader)\n\u001b[1;32m      5\u001b[0m \u001b[38;5;66;03m# Ground truth labels (for testing purposes)\u001b[39;00m\n\u001b[1;32m      6\u001b[0m ground_truth \u001b[38;5;241m=\u001b[39m torch\u001b[38;5;241m.\u001b[39mcat([labels \u001b[38;5;28;01mfor\u001b[39;00m _, labels \u001b[38;5;129;01min\u001b[39;00m test_loader])\n",
      "\u001b[0;31mNameError\u001b[0m: name 'model' is not defined"
     ]
    }
   ],
   "source": [
    "# Inference\n",
    "test_loader = mnist_loader.get_test_loader()\n",
    "predictions = predict_model(model, test_loader)\n",
    "\n",
    "# Ground truth labels (for testing purposes)\n",
    "ground_truth = torch.cat([labels for _, labels in test_loader])\n",
    "\n",
    "# Compute accuracy\n",
    "accuracy = compute_accuracy(predictions, ground_truth)\n",
    "print(f'Test Accuracy: {accuracy:.2%}')"
   ]
  }
 ],
 "metadata": {
  "kernelspec": {
   "display_name": "sta6367",
   "language": "python",
   "name": "python3"
  },
  "language_info": {
   "codemirror_mode": {
    "name": "ipython",
    "version": 3
   },
   "file_extension": ".py",
   "mimetype": "text/x-python",
   "name": "python",
   "nbconvert_exporter": "python",
   "pygments_lexer": "ipython3",
   "version": "3.10.13"
  }
 },
 "nbformat": 4,
 "nbformat_minor": 2
}
